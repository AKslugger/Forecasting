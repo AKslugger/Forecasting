{
  "nbformat": 4,
  "nbformat_minor": 0,
  "metadata": {
    "colab": {
      "name": "Movie recommender.ipynb",
      "provenance": [],
      "authorship_tag": "ABX9TyMDWRdyJXI3fnN/l30G+iUJ",
      "include_colab_link": true
    },
    "kernelspec": {
      "name": "python3",
      "display_name": "Python 3"
    }
  },
  "cells": [
    {
      "cell_type": "markdown",
      "metadata": {
        "id": "view-in-github",
        "colab_type": "text"
      },
      "source": [
        "<a href=\"https://colab.research.google.com/github/AKslugger/Recomendation-system/blob/main/Movie_recommender.ipynb\" target=\"_parent\"><img src=\"https://colab.research.google.com/assets/colab-badge.svg\" alt=\"Open In Colab\"/></a>"
      ]
    },
    {
      "cell_type": "markdown",
      "metadata": {
        "id": "T_3T6B9GuRRN"
      },
      "source": [
        "RECOMMENDATION OF MOVIES BASED ON YOUR WATCH HISTORY MOVIE"
      ]
    },
    {
      "cell_type": "code",
      "metadata": {
        "id": "qEnuchvhwTjL"
      },
      "source": [
        "import pandas as pd"
      ],
      "execution_count": 1,
      "outputs": []
    },
    {
      "cell_type": "code",
      "metadata": {
        "id": "TBFmpJ70wezG"
      },
      "source": [
        "movies=pd.read_csv(\"https://raw.githubusercontent.com/SavioSal/datasets/master/movie_clean.csv\",encoding='unicode_escape')"
      ],
      "execution_count": 2,
      "outputs": []
    },
    {
      "cell_type": "code",
      "metadata": {
        "id": "OyH6HEef5hzl"
      },
      "source": [
        "from sklearn.feature_extraction.text import TfidfVectorizer #--term frequency inverse document frequency-it gives importance of words\n",
        "tfid=TfidfVectorizer(stop_words='english')\n"
      ],
      "execution_count": 3,
      "outputs": []
    },
    {
      "cell_type": "code",
      "metadata": {
        "id": "X147ViL_ARUG"
      },
      "source": [
        "movies_new=movies[movies['vote_average']>7]"
      ],
      "execution_count": 4,
      "outputs": []
    },
    {
      "cell_type": "code",
      "metadata": {
        "colab": {
          "base_uri": "https://localhost:8080/"
        },
        "id": "WZFLWrkfDKL6",
        "outputId": "0873cb1f-45ec-4f29-881f-05e84c6d1ac9"
      },
      "source": [
        "movies_new.shape"
      ],
      "execution_count": 5,
      "outputs": [
        {
          "output_type": "execute_result",
          "data": {
            "text/plain": [
              "(7714, 7)"
            ]
          },
          "metadata": {
            "tags": []
          },
          "execution_count": 5
        }
      ]
    },
    {
      "cell_type": "code",
      "metadata": {
        "colab": {
          "base_uri": "https://localhost:8080/"
        },
        "id": "8tWORNWi63Ql",
        "outputId": "1c5da5b5-6fe3-4a3d-e3d1-c6e782374fb2"
      },
      "source": [
        "len(movies_new[movies_new['overview'].isna()])"
      ],
      "execution_count": 6,
      "outputs": [
        {
          "output_type": "execute_result",
          "data": {
            "text/plain": [
              "156"
            ]
          },
          "metadata": {
            "tags": []
          },
          "execution_count": 6
        }
      ]
    },
    {
      "cell_type": "code",
      "metadata": {
        "id": "aQ0_HgMH7m5V"
      },
      "source": [
        "movies_new=movies.dropna() #instead of dropna() use fillna()"
      ],
      "execution_count": 7,
      "outputs": []
    },
    {
      "cell_type": "code",
      "metadata": {
        "colab": {
          "base_uri": "https://localhost:8080/"
        },
        "id": "sVlSVwEi7zcl",
        "outputId": "180bccee-84aa-4a26-e366-23b68b2b0112"
      },
      "source": [
        "movies_new['overview']=movies_new['overview'].fillna(\"\")"
      ],
      "execution_count": 8,
      "outputs": [
        {
          "output_type": "stream",
          "text": [
            "/usr/local/lib/python3.7/dist-packages/ipykernel_launcher.py:1: SettingWithCopyWarning: \n",
            "A value is trying to be set on a copy of a slice from a DataFrame.\n",
            "Try using .loc[row_indexer,col_indexer] = value instead\n",
            "\n",
            "See the caveats in the documentation: https://pandas.pydata.org/pandas-docs/stable/user_guide/indexing.html#returning-a-view-versus-a-copy\n",
            "  \"\"\"Entry point for launching an IPython kernel.\n"
          ],
          "name": "stderr"
        }
      ]
    },
    {
      "cell_type": "code",
      "metadata": {
        "id": "h4X7P-1y8f94"
      },
      "source": [
        "tfid_matrix=tfid.fit_transform(movies_new['overview'])"
      ],
      "execution_count": 9,
      "outputs": []
    },
    {
      "cell_type": "code",
      "metadata": {
        "id": "e7Jttwts9FZl"
      },
      "source": [
        "from sklearn.metrics.pairwise import linear_kernel"
      ],
      "execution_count": 10,
      "outputs": []
    },
    {
      "cell_type": "code",
      "metadata": {
        "id": "Bpu5xaWa9jRG"
      },
      "source": [
        "cosine_similarity=linear_kernel(tfid_matrix,tfid_matrix) #it is a measure of similarity b/w two non-zero vectors"
      ],
      "execution_count": null,
      "outputs": []
    },
    {
      "cell_type": "code",
      "metadata": {
        "id": "o4ZJcq3BE0V_"
      },
      "source": [
        "cosine_similarity.shape"
      ],
      "execution_count": null,
      "outputs": []
    },
    {
      "cell_type": "code",
      "metadata": {
        "id": "SJyP0JVKE-PN"
      },
      "source": [
        "indices=pd.Series(movies_new.index,index= movies_new['title']).drop_duplicates()"
      ],
      "execution_count": null,
      "outputs": []
    },
    {
      "cell_type": "code",
      "metadata": {
        "id": "SFdLmwh3GMRT"
      },
      "source": [
        "indices.head()"
      ],
      "execution_count": null,
      "outputs": []
    },
    {
      "cell_type": "code",
      "metadata": {
        "id": "OEw_CE1hISSt"
      },
      "source": [
        "def movie_recommender(title): \n",
        "  idx=indices[title] \n",
        "  similarity_scores=list(enumerate(cosine_similarity[idx])) \n",
        "  similarity_scores=sorted(similarity_scores,key=lambda x:x[1],reverse=True) \n",
        "  scores_final=similarity_scores[1:11] \n",
        "  movie_indices=[i[0] for i in scores_final] \n",
        "  return movies_new['title'].iloc[movie_indices]"
      ],
      "execution_count": null,
      "outputs": []
    },
    {
      "cell_type": "code",
      "metadata": {
        "id": "DvuQ3QgeI2Wh"
      },
      "source": [
        "movie_recommender('Toy Story')"
      ],
      "execution_count": null,
      "outputs": []
    },
    {
      "cell_type": "code",
      "metadata": {
        "id": "Zr3XWmKxJFLJ"
      },
      "source": [
        "movie_recommender('Casino')"
      ],
      "execution_count": null,
      "outputs": []
    }
  ]
}